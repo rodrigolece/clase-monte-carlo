{
 "metadata": {
  "language": "Julia",
  "name": "",
  "signature": "sha256:29c297a951e2fa9c67246a9a67a205679907b6d3f00f037a0ffc635ce71373db"
 },
 "nbformat": 3,
 "nbformat_minor": 0,
 "worksheets": [
  {
   "cells": [
    {
     "cell_type": "heading",
     "level": 4,
     "metadata": {},
     "source": [
      "Rodrigo Leal Cervantes"
     ]
    },
    {
     "cell_type": "heading",
     "level": 1,
     "metadata": {},
     "source": [
      "3 cosas que me gustan de Julia"
     ]
    },
    {
     "cell_type": "markdown",
     "metadata": {},
     "source": [
      "- La sint\u00e1xis: es muy clara, no tiene par\u00e9ntesis estorbosas ni instrucciones cr\u00edpticas. El c\u00f3digo se puede leer y se entiende f\u00e1cilmente.\n",
      "- El multiple-dispatch: a pesar de que he le\u00eddo muchas quejas de los que est\u00e1n acostumbrados a que Orientaci\u00f3n a Objetos significa tener m\u00e9todos del tipo `miobjeto.m\u00e9todo`, me parece que facilita incre\u00edblemente las cosas. Por ejemplo, la sobrecarga de operadores que era francamente obscura en Python se escribe en una l\u00ednea.\n",
      "- El soporte a Unicode, y la declaraci\u00f3n \"f\u00e1cil\" de funciones, m\u00e1s parecida a lo que estamos acostumbrados en matem\u00e1ticas como : `f(x) = 2x^2 + sin(x)`"
     ]
    },
    {
     "cell_type": "heading",
     "level": 1,
     "metadata": {},
     "source": [
      "3 cosas dif\u00edciles de Julia"
     ]
    },
    {
     "cell_type": "markdown",
     "metadata": {},
     "source": [
      "- Los mensajes de error todav\u00eda son relativamente cr\u00edpticos. Descifrarlos puede tomar bastante tiempo.\n",
      "- Los macros, todav\u00eda no los s\u00e9 usar.\n",
      "- No es algo d\u00edficil, m\u00e1s bien algo que no me gusta y que esperemos que cambie pronto, el importar bibliotecas. Toma una cantidad enorme de tiempo."
     ]
    },
    {
     "cell_type": "code",
     "collapsed": false,
     "input": [],
     "language": "python",
     "metadata": {},
     "outputs": []
    }
   ],
   "metadata": {}
  }
 ]
}