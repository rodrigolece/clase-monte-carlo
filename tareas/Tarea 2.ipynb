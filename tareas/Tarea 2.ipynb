{
 "metadata": {
  "language": "Julia",
  "name": "",
  "signature": "sha256:0f1c0ada6306658199cbe1f0f171919653946bcf48a7fc52b6708042ff011cc9"
 },
 "nbformat": 3,
 "nbformat_minor": 0,
 "worksheets": [
  {
   "cells": [
    {
     "cell_type": "heading",
     "level": 1,
     "metadata": {},
     "source": [
      "Tarea 2: Procesos de primer paso"
     ]
    },
    {
     "cell_type": "markdown",
     "metadata": {},
     "source": [
      "Para entregarse el jueves, 19 de febrero de 2015, antes de las 14 horas.\n",
      "\n",
      "**LA TAREA SE HACE Y SE ENTREGA EN PAREJAS**"
     ]
    },
    {
     "cell_type": "markdown",
     "metadata": {},
     "source": [
      "Consid\u00e9rese un caminante aleatorio que vive en los enteros. Es sim\u00e9trico, es decir, en cada paso, brinca a la izquierda o al derecha, los dos con probabilidad $\\frac{1}{2}$. Empieza en $1$. \n",
      "\n",
      "Estudiaremos el **tiempo de primer paso** a $0$, es decir, \u00bfcu\u00e1ndo llegar\u00e1 por primera vez el caminante a $0$? A esta variable aleatoria la llamaremos $\\tau$."
     ]
    },
    {
     "cell_type": "heading",
     "level": 2,
     "metadata": {},
     "source": [
      "Preguntas"
     ]
    },
    {
     "cell_type": "markdown",
     "metadata": {},
     "source": [
      "[1] Escribe una funci\u00f3n que simule al caminante aleatorio, empezando en $1$ hasta que llegue a $0$. El caminante vive en una caja de tama\u00f1o $L+1$, es decir en $\\{0, 1, \\ldots, L-1, L\\}$, y la funci\u00f3n debe tomar $L$ como par\u00e1metro.\n",
      "\n",
      "Hay una *frontera reflejante* en $L+\\frac{1}{2}$: si el caminante est\u00e1 en $L$ e intenta brincar a la derecha, se refleja y se queda en donde estaba.\n",
      "\n",
      "La funci\u00f3n regresa el tiempo que tard\u00f3 en llegar a $0$.\n",
      "\n",
      "[2] Escribe una funci\u00f3n que calcule el tiempo promedio $\\langle \\tau_L \\rangle$ en llegar a $0$ para un sistema de tama\u00f1o $L$, sobre un n\u00famero de corridas $N$.\n",
      "\n",
      "[3] Dibuja el tiempo promedio $\\langle \\tau_L \\rangle$ en funci\u00f3n del tama\u00f1o $L$. \u00bfC\u00f3mo escala el tiempo promedio con $L$? \u00bfQu\u00e9 pasa cuando $L \\to \\infty$?\n",
      "\n",
      "[4] Escribe una funci\u00f3n que calcule la distribuci\u00f3n de probabilidad de $\\tau_L$. \n",
      "\n",
      "[5] Dibuja la distribuci\u00f3n de probabilidad $f_{\\tau_L}(t)$ de $\\tau_L$ para distintas $L$ en una sola gr\u00e1fica. \u00bfC\u00f3mo escala la cola de la distribuci\u00f3n? \n",
      "\n",
      "[6] \u00bfC\u00f3mo se ve la distribuci\u00f3n de $\\tau_\\infty$? \u00bfC\u00f3mo es su cola? \u00bfQu\u00e9 implica para el tiempo promedio de $\\tau_\\infty$?\n",
      "\n"
     ]
    },
    {
     "cell_type": "heading",
     "level": 3,
     "metadata": {},
     "source": [
      "[1]"
     ]
    },
    {
     "cell_type": "code",
     "collapsed": false,
     "input": [
      "function paso(x::Int, L::Int, p)\n",
      "    if rand() < p\n",
      "        x += 1\n",
      "    else\n",
      "        x -= 1\n",
      "    end\n",
      "    \n",
      "    if x == L+1 #Si la caja se acaba..\n",
      "        x = L   #se refleja\n",
      "    end\n",
      "    \n",
      "    x\n",
      "end\n",
      "\n",
      "function caminata(L::Int, p=0.5)\n",
      "    x = 1\n",
      "    \u03c4 = 0\n",
      "    \n",
      "    while x != 0\n",
      "        x = paso(x, L, p)\n",
      "        \u03c4 +=1\n",
      "    end\n",
      "    \n",
      "    \u03c4\n",
      "end"
     ],
     "language": "python",
     "metadata": {},
     "outputs": [
      {
       "metadata": {},
       "output_type": "pyout",
       "prompt_number": 1,
       "text": [
        "caminata (generic function with 2 methods)"
       ]
      }
     ],
     "prompt_number": 1
    },
    {
     "cell_type": "code",
     "collapsed": false,
     "input": [
      "caminata(10)"
     ],
     "language": "python",
     "metadata": {},
     "outputs": [
      {
       "metadata": {},
       "output_type": "pyout",
       "prompt_number": 2,
       "text": [
        "1"
       ]
      }
     ],
     "prompt_number": 2
    },
    {
     "cell_type": "heading",
     "level": 3,
     "metadata": {},
     "source": [
      "[2]"
     ]
    },
    {
     "cell_type": "code",
     "collapsed": false,
     "input": [
      "function taupromedio(L::Int, N::Int)\n",
      "    corridas = Array(Int,N)\n",
      "    \n",
      "    for i in 1:N\n",
      "        corridas[i] = caminata(L)\n",
      "    end\n",
      "    \n",
      "    L, N, mean(corridas)\n",
      "end"
     ],
     "language": "python",
     "metadata": {},
     "outputs": [
      {
       "metadata": {},
       "output_type": "pyout",
       "prompt_number": 2,
       "text": [
        "taupromedio (generic function with 1 method)"
       ]
      }
     ],
     "prompt_number": 2
    },
    {
     "cell_type": "code",
     "collapsed": false,
     "input": [
      "L = 10; N = 10_000\n",
      "taupromedio(L, N)"
     ],
     "language": "python",
     "metadata": {},
     "outputs": [
      {
       "metadata": {},
       "output_type": "pyout",
       "prompt_number": 4,
       "text": [
        "(10,10000,20.238)"
       ]
      }
     ],
     "prompt_number": 4
    },
    {
     "cell_type": "code",
     "collapsed": false,
     "input": [
      "L = 10; N = 100_000\n",
      "taupromedio(L, N)"
     ],
     "language": "python",
     "metadata": {},
     "outputs": [
      {
       "metadata": {},
       "output_type": "pyout",
       "prompt_number": 5,
       "text": [
        "(10,100000,19.83414)"
       ]
      }
     ],
     "prompt_number": 5
    },
    {
     "cell_type": "markdown",
     "metadata": {},
     "source": [
      "No hay tanta diferencia entre $10^4$ y $10^5$ corridas, vamos a usar el primer valor para que tome menos tiempo."
     ]
    },
    {
     "cell_type": "heading",
     "level": 3,
     "metadata": {},
     "source": [
      "[3]"
     ]
    },
    {
     "cell_type": "code",
     "collapsed": false,
     "input": [
      "using PyPlot"
     ],
     "language": "python",
     "metadata": {},
     "outputs": [
      {
       "output_type": "stream",
       "stream": "stderr",
       "text": [
        "INFO: Loading help data...\n"
       ]
      }
     ],
     "prompt_number": 3
    },
    {
     "cell_type": "code",
     "collapsed": false,
     "input": [
      "function tauVsL(Ls)\n",
      "    N = length(Ls)\n",
      "    ts = Array(Float64,N)\n",
      "    \n",
      "    figure(figsize=(5,3))\n",
      "    xlabel(\"L\")\n",
      "    ylabel(\"<\u03c4>\")\n",
      "    \n",
      "    for i in 1:N\n",
      "        ts[i] = taupromedio(Ls[i], 10_000)[3] #Usamos 10_000 corridas para sacar el promedio\n",
      "    end\n",
      "    \n",
      "#     gca()[:set_xscale](\"log\")\n",
      "#     gca()[:set_yscale](\"log\") \n",
      "    plot(Ls,ts,\"o-\")\n",
      "end "
     ],
     "language": "python",
     "metadata": {},
     "outputs": [
      {
       "metadata": {},
       "output_type": "pyout",
       "prompt_number": 7,
       "text": [
        "tauVsL (generic function with 1 method)"
       ]
      }
     ],
     "prompt_number": 7
    },
    {
     "cell_type": "heading",
     "level": 4,
     "metadata": {},
     "source": [
      "Muestra de $L$ lineal"
     ]
    },
    {
     "cell_type": "code",
     "collapsed": false,
     "input": [
      "Ls = [10:50:1000]\n",
      "tauVsL(Ls);"
     ],
     "language": "python",
     "metadata": {},
     "outputs": [
      {
       "metadata": {},
       "output_type": "display_data",
       "png": "[encoded data removed]",
       "text": [
        "Figure(PyObject <matplotlib.figure.Figure object at 0x116980b90>)"
       ]
      }
     ],
     "prompt_number": 8
    },
    {
     "cell_type": "heading",
     "level": 4,
     "metadata": {},
     "source": [
      "Logar\u00edtmica"
     ]
    },
    {
     "cell_type": "code",
     "collapsed": false,
     "input": [
      "Ls = [10^i for i in 0:5]\n",
      "tauVsL(Ls);"
     ],
     "language": "python",
     "metadata": {},
     "outputs": [
      {
       "metadata": {},
       "output_type": "display_data",
       "png": "[encoded data removed]",
       "text": [
        "Figure(PyObject <matplotlib.figure.Figure object at 0x11926da50>)"
       ]
      }
     ],
     "prompt_number": 17
    },
    {
     "cell_type": "markdown",
     "metadata": {},
     "source": [
      "De las dos gr\u00e1ficas anteriores, concluimos que $<\\tau>$ escala linealmente con $L$ y si $L \\to \\infty$, $<\\tau>$ diverge."
     ]
    },
    {
     "cell_type": "heading",
     "level": 3,
     "metadata": {},
     "source": [
      "[4]"
     ]
    },
    {
     "cell_type": "code",
     "collapsed": false,
     "input": [
      "function distribucion(L::Int, N::Int) #N el n\u00famero de corridas\n",
      "    corridas = Array(Int,N)\n",
      "    for i in 1:N\n",
      "        corridas[i] = caminata(L)\n",
      "    end\n",
      "    \n",
      "    m = maximum(corridas)\n",
      "    dist = zeros(Int, m)\n",
      "    \n",
      "    for c in corridas\n",
      "        dist[c] += 1\n",
      "    end\n",
      "    \n",
      "    dist/N\n",
      "end"
     ],
     "language": "python",
     "metadata": {},
     "outputs": [
      {
       "metadata": {},
       "output_type": "pyout",
       "prompt_number": 17,
       "text": [
        "distribucion (generic function with 1 method)"
       ]
      }
     ],
     "prompt_number": 17
    },
    {
     "cell_type": "code",
     "collapsed": false,
     "input": [
      "L = 20; N = 10_000\n",
      "distribucion(L, N)"
     ],
     "language": "python",
     "metadata": {},
     "outputs": [
      {
       "metadata": {},
       "output_type": "pyout",
       "prompt_number": 18,
       "text": [
        "2347-element Array{Float64,1}:\n",
        " 0.5043\n",
        " 0.0   \n",
        " 0.1235\n",
        " 0.0   \n",
        " 0.0626\n",
        " 0.0   \n",
        " 0.0416\n",
        " 0.0   \n",
        " 0.0276\n",
        " 0.0   \n",
        " 0.0198\n",
        " 0.0   \n",
        " 0.0161\n",
        " \u22ee     \n",
        " 0.0   \n",
        " 0.0   \n",
        " 0.0   \n",
        " 0.0   \n",
        " 0.0   \n",
        " 0.0   \n",
        " 0.0   \n",
        " 0.0   \n",
        " 0.0   \n",
        " 0.0   \n",
        " 0.0   \n",
        " 0.0001"
       ]
      }
     ],
     "prompt_number": 18
    },
    {
     "cell_type": "heading",
     "level": 3,
     "metadata": {},
     "source": [
      "[5]"
     ]
    },
    {
     "cell_type": "markdown",
     "metadata": {},
     "source": [
      "Dibujemos la distribuci\u00f3n para distintas $L$"
     ]
    },
    {
     "cell_type": "code",
     "collapsed": false,
     "input": [
      "Ls = [20, 100, 500]\n",
      "N = 10_000\n",
      "\n",
      "figure(figsize=(5,3))\n",
      "xlabel(\"t\")\n",
      "ylabel(r\"\\f_{\\tau_L}(t)\") #No jala el rendering\n",
      "\n",
      "for L in Ls\n",
      "    plot(distribucion(L,N)[1:40], \"x\") #Estamos cortando las colas\n",
      "end"
     ],
     "language": "python",
     "metadata": {},
     "outputs": [
      {
       "metadata": {},
       "output_type": "display_data",
       "png": "[encoded data removed]",
       "text": [
        "Figure(PyObject <matplotlib.figure.Figure object at 0x116eb18d0>)"
       ]
      }
     ],
     "prompt_number": 10
    },
    {
     "cell_type": "markdown",
     "metadata": {},
     "source": [
      "Para $t$ peque\u00f1a, el comportamiento de las diferentes distribuciones de $\\tau_L$ es similar. \u00bfC\u00f3mo se comportan las colas que tuvimos que cortar?"
     ]
    },
    {
     "cell_type": "markdown",
     "metadata": {},
     "source": [
      "Podemos tomar, como medida de la cola, la longitud de la distribuci\u00f3n:"
     ]
    },
    {
     "cell_type": "code",
     "collapsed": false,
     "input": [
      "function colas(Ls, N::Int)\n",
      "    out= Int[]\n",
      "\n",
      "    for L in Ls\n",
      "        push!(out, length(distribucion(int(L),N)) )\n",
      "    end\n",
      "    \n",
      "    out\n",
      "end"
     ],
     "language": "python",
     "metadata": {},
     "outputs": [
      {
       "metadata": {},
       "output_type": "pyout",
       "prompt_number": 23,
       "text": [
        "colas (generic function with 1 method)"
       ]
      }
     ],
     "prompt_number": 23
    },
    {
     "cell_type": "code",
     "collapsed": false,
     "input": [
      "Ls = [20, 100, 500]\n",
      "N = 1000\n",
      "\n",
      "c = colas(Ls,N)"
     ],
     "language": "python",
     "metadata": {},
     "outputs": [
      {
       "metadata": {},
       "output_type": "pyout",
       "prompt_number": 24,
       "text": [
        "3-element Array{Int64,1}:\n",
        "   2377\n",
        "  22443\n",
        " 395918"
       ]
      }
     ],
     "prompt_number": 24
    },
    {
     "cell_type": "code",
     "collapsed": false,
     "input": [
      "Ls = [10^i for i in 1:0.5:5]\n",
      "N = 10_000\n",
      "\n",
      "@time c = colas(Ls, N);"
     ],
     "language": "python",
     "metadata": {},
     "outputs": [
      {
       "output_type": "stream",
       "stream": "stdout",
       "text": [
        "elapsed time: 189"
       ]
      },
      {
       "output_type": "stream",
       "stream": "stdout",
       "text": [
        ".581935573 seconds (32870575088 bytes allocated, 1.96% gc time)\n"
       ]
      }
     ],
     "prompt_number": 27
    },
    {
     "cell_type": "code",
     "collapsed": false,
     "input": [
      "figure(figsize=(5,3))\n",
      "xlabel(\"L\")\n",
      "ylabel(\"max{\u03c4}\")\n",
      "gca()[:set_xscale](\"log\")\n",
      "gca()[:set_yscale](\"log\")\n",
      "plot(Ls, c, \"o-\");"
     ],
     "language": "python",
     "metadata": {},
     "outputs": [
      {
       "metadata": {},
       "output_type": "display_data",
       "png": "[encoded data removed]",
       "text": [
        "Figure(PyObject <matplotlib.figure.Figure object at 0x113fd2650>)"
       ]
      }
     ],
     "prompt_number": 28
    },
    {
     "cell_type": "markdown",
     "metadata": {},
     "source": [
      "La cola crece  aproximadamente linealmente con $L$."
     ]
    },
    {
     "cell_type": "heading",
     "level": 3,
     "metadata": {},
     "source": [
      "[6]"
     ]
    },
    {
     "cell_type": "code",
     "collapsed": false,
     "input": [],
     "language": "python",
     "metadata": {},
     "outputs": []
    }
   ],
   "metadata": {}
  }
 ]
}